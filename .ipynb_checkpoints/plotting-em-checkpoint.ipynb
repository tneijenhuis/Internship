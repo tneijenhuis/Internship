{
 "cells": [
  {
   "cell_type": "code",
   "execution_count": 1,
   "metadata": {},
   "outputs": [],
   "source": [
    "import pandas as pd\n",
    "import matplotlib.pyplot as plt\n",
    "%matplotlib inline\n",
    "import numpy as np\n",
    "import seaborn as sns\n",
    "from scipy import stats"
   ]
  },
  {
   "cell_type": "markdown",
   "metadata": {},
   "source": [
    "## Cell containing all frunctions required for parsing data\n",
    "- reference Cross correlation and Clashes\n",
    "- water data \n",
    "- it1 data\n",
    "- time for each run"
   ]
  },
  {
   "cell_type": "code",
   "execution_count": 2,
   "metadata": {},
   "outputs": [],
   "source": [
    "def get_ref():\n",
    "    \"\"\"returns a DataFrame containing all the reference structure values\"\"\"\n",
    "    clash_df = pd.read_csv(\"analysis/reference-clashes.csv\", index_col = 0)\n",
    "    cor_df = pd.read_csv(\"analysis/reference-correlation.csv\", index_col = 0)\n",
    "    ref_df = clash_df.join(cor_df[\"correlation\"])\n",
    "    return ref_df\n",
    "\n",
    "\n",
    "def make_water_df_list(run):\n",
    "    run = \"analysis_{}\".format(run)\n",
    "    \n",
    "    df_3J95 = pd.read_csv((\"analysis/{}/water/3J95_correlation.csv\").format(run), index_col = \"structure\")\n",
    "    df_3J96 = pd.read_csv((\"analysis/{}/water/3J96_correlation.csv\").format(run), index_col = \"structure\")\n",
    "    df_5GRS = pd.read_csv((\"analysis/{}/water/5GRS_correlation.csv\").format(run), index_col = \"structure\")\n",
    "    df_5HNY = pd.read_csv((\"analysis/{}/water/5HNY_correlation.csv\").format(run), index_col = \"structure\")\n",
    "    df_5WCB = pd.read_csv((\"analysis/{}/water/5WCB_correlation.csv\").format(run), index_col = \"structure\")\n",
    "    df_6ACG = pd.read_csv((\"analysis/{}/water/6ACG_correlation.csv\").format(run), index_col = \"structure\")\n",
    "    df_6AHF = pd.read_csv((\"analysis/{}/water/6AHF_correlation.csv\").format(run), index_col = \"structure\")\n",
    "    df_6C06 = pd.read_csv((\"analysis/{}/water/6C06_correlation.csv\").format(run), index_col = \"structure\")\n",
    "    df_6C3P = pd.read_csv((\"analysis/{}/water/6C3P_correlation.csv\").format(run), index_col = \"structure\")\n",
    "    df_6ENY = pd.read_csv((\"analysis/{}/water/6ENY_correlation.csv\").format(run), index_col = \"structure\")\n",
    "    df_6IRF = pd.read_csv((\"analysis/{}/water/6IRF_correlation.csv\").format(run), index_col = \"structure\")\n",
    "    df_6N1Q = pd.read_csv((\"analysis/{}/water/6N1Q_correlation.csv\").format(run), index_col = \"structure\")\n",
    "    df_6N7G = pd.read_csv((\"analysis/{}/water/6N7G_correlation.csv\").format(run), index_col = \"structure\")\n",
    "    df_6N8T = pd.read_csv((\"analysis/{}/water/6N8T_correlation.csv\").format(run), index_col = \"structure\")\n",
    "    df_6N8Z = pd.read_csv((\"analysis/{}/water/6N8Z_correlation.csv\").format(run), index_col = \"structure\")\n",
    "    df_6R7I = pd.read_csv((\"analysis/{}/water/6R7I_correlation.csv\").format(run), index_col = \"structure\")\n",
    "    df_6UBY = pd.read_csv((\"analysis/{}/water/6UBY_correlation.csv\").format(run), index_col = \"structure\")\n",
    "    df_6UC0 = pd.read_csv((\"analysis/{}/water/6UC0_correlation.csv\").format(run), index_col = \"structure\")\n",
    "    \n",
    "    df_list = [\n",
    "        df_3J95,\n",
    "        df_3J96,\n",
    "        df_5GRS,\n",
    "        df_5HNY,\n",
    "        df_5WCB,\n",
    "        df_6ACG,\n",
    "        df_6AHF,\n",
    "        df_6C06,\n",
    "        df_6C3P,\n",
    "        df_6ENY,\n",
    "        df_6IRF,\n",
    "        df_6N1Q,\n",
    "        df_6N7G,\n",
    "        df_6N8T,\n",
    "        df_6N8Z,\n",
    "        df_6R7I,\n",
    "        df_6UBY,\n",
    "        df_6UC0,\n",
    "    ]\n",
    "    \n",
    "    return df_list\n",
    "\n",
    "def make_it1_df_list(run):\n",
    "    run = \"analysis_{}\".format(run)\n",
    "    \n",
    "    clash_3J95 = pd.read_csv((\"analysis/{}/3J95_clashes.csv\").format(run), index_col = \"structure\")\n",
    "    clash_3J96 = pd.read_csv((\"analysis/{}/3J96_clashes.csv\").format(run), index_col = \"structure\")\n",
    "    clash_5GRS = pd.read_csv((\"analysis/{}/5GRS_clashes.csv\").format(run), index_col = \"structure\")\n",
    "    clash_5HNY = pd.read_csv((\"analysis/{}/5HNY_clashes.csv\").format(run), index_col = \"structure\")\n",
    "    clash_5WCB = pd.read_csv((\"analysis/{}/5WCB_clashes.csv\").format(run), index_col = \"structure\")\n",
    "    clash_6ACG = pd.read_csv((\"analysis/{}/6ACG_clashes.csv\").format(run), index_col = \"structure\")\n",
    "    clash_6AHF = pd.read_csv((\"analysis/{}/6AHF_clashes.csv\").format(run), index_col = \"structure\")\n",
    "    clash_6C06 = pd.read_csv((\"analysis/{}/6C06_clashes.csv\").format(run), index_col = \"structure\")\n",
    "    clash_6C3P = pd.read_csv((\"analysis/{}/6C3P_clashes.csv\").format(run), index_col = \"structure\")\n",
    "    clash_6ENY = pd.read_csv((\"analysis/{}/6ENY_clashes.csv\").format(run), index_col = \"structure\")\n",
    "    clash_6IRF = pd.read_csv((\"analysis/{}/6IRF_clashes.csv\").format(run), index_col = \"structure\")\n",
    "    clash_6N1Q = pd.read_csv((\"analysis/{}/6N1Q_clashes.csv\").format(run), index_col = \"structure\")\n",
    "    clash_6N7G = pd.read_csv((\"analysis/{}/6N7G_clashes.csv\").format(run), index_col = \"structure\")\n",
    "    clash_6N8T = pd.read_csv((\"analysis/{}/6N8T_clashes.csv\").format(run), index_col = \"structure\")\n",
    "    clash_6N8Z = pd.read_csv((\"analysis/{}/6N8Z_clashes.csv\").format(run), index_col = \"structure\")\n",
    "    clash_6R7I = pd.read_csv((\"analysis/{}/6R7I_clashes.csv\").format(run), index_col = \"structure\")\n",
    "    clash_6UBY = pd.read_csv((\"analysis/{}/6UBY_clashes.csv\").format(run), index_col = \"structure\")\n",
    "    clash_6UC0 = pd.read_csv((\"analysis/{}/6UC0_clashes.csv\").format(run), index_col = \"structure\")\n",
    "    \n",
    "    df_3J95 = clash_3J95.join(pd.read_csv((\"analysis/{}/3J95_correlation.csv\").format(run), index_col = \"structure\")[\"correlation\"])\n",
    "    df_3J96 = clash_3J96.join(pd.read_csv((\"analysis/{}/3J96_correlation.csv\").format(run), index_col = \"structure\")[\"correlation\"])\n",
    "    df_5GRS = clash_5GRS.join(pd.read_csv((\"analysis/{}/5GRS_correlation.csv\").format(run), index_col = \"structure\")[\"correlation\"])\n",
    "    df_5HNY = clash_5HNY.join(pd.read_csv((\"analysis/{}/5HNY_correlation.csv\").format(run), index_col = \"structure\")[\"correlation\"])\n",
    "    df_5WCB = clash_5WCB.join(pd.read_csv((\"analysis/{}/5WCB_correlation.csv\").format(run), index_col = \"structure\")[\"correlation\"])\n",
    "    df_6ACG = clash_6ACG.join(pd.read_csv((\"analysis/{}/6ACG_correlation.csv\").format(run), index_col = \"structure\")[\"correlation\"])\n",
    "    df_6AHF = clash_6AHF.join(pd.read_csv((\"analysis/{}/6AHF_correlation.csv\").format(run), index_col = \"structure\")[\"correlation\"])\n",
    "    df_6C06 = clash_6C06.join(pd.read_csv((\"analysis/{}/6C06_correlation.csv\").format(run), index_col = \"structure\")[\"correlation\"])\n",
    "    df_6C3P = clash_6C3P.join(pd.read_csv((\"analysis/{}/6C3P_correlation.csv\").format(run), index_col = \"structure\")[\"correlation\"])\n",
    "    df_6ENY = clash_6ENY.join(pd.read_csv((\"analysis/{}/6ENY_correlation.csv\").format(run), index_col = \"structure\")[\"correlation\"])\n",
    "    df_6IRF = clash_6IRF.join(pd.read_csv((\"analysis/{}/6IRF_correlation.csv\").format(run), index_col = \"structure\")[\"correlation\"])\n",
    "    df_6N1Q = clash_6N1Q.join(pd.read_csv((\"analysis/{}/6N1Q_correlation.csv\").format(run), index_col = \"structure\")[\"correlation\"])\n",
    "    df_6N7G = clash_6N7G.join(pd.read_csv((\"analysis/{}/6N7G_correlation.csv\").format(run), index_col = \"structure\")[\"correlation\"])\n",
    "    df_6N8T = clash_6N8T.join(pd.read_csv((\"analysis/{}/6N8T_correlation.csv\").format(run), index_col = \"structure\")[\"correlation\"])\n",
    "    df_6N8Z = clash_6N8Z.join(pd.read_csv((\"analysis/{}/6N8Z_correlation.csv\").format(run), index_col = \"structure\")[\"correlation\"])\n",
    "    df_6R7I = clash_6R7I.join(pd.read_csv((\"analysis/{}/6R7I_correlation.csv\").format(run), index_col = \"structure\")[\"correlation\"])\n",
    "    df_6UBY = clash_6UBY.join(pd.read_csv((\"analysis/{}/6UBY_correlation.csv\").format(run), index_col = \"structure\")[\"correlation\"])\n",
    "    df_6UC0 = clash_6UC0.join(pd.read_csv((\"analysis/{}/6UC0_correlation.csv\").format(run), index_col = \"structure\")[\"correlation\"])\n",
    "    \n",
    "    \n",
    "    df_list = [\n",
    "        df_3J95,\n",
    "        df_3J96,\n",
    "        df_5GRS,\n",
    "        df_5HNY,\n",
    "        df_5WCB,\n",
    "        df_6ACG,\n",
    "        df_6AHF,\n",
    "        df_6C06,\n",
    "        df_6C3P,\n",
    "        df_6ENY,\n",
    "        df_6IRF,\n",
    "        df_6N1Q,\n",
    "        df_6N7G,\n",
    "        df_6N8T,\n",
    "        df_6N8Z,\n",
    "        df_6R7I,\n",
    "        df_6UBY,\n",
    "        df_6UC0,\n",
    "    ]\n",
    "    \n",
    "    return df_list\n",
    "\n",
    "def make_time_df_list(runs):\n",
    "    \"\"\"Takes a list of runs and wil return a list of dfs\"\"\"\n",
    "    \n",
    "    df_list = []\n",
    "    for run in runs:\n",
    "        file = \"analysis/analysis_{}/runtime.csv\".format(run)\n",
    "        df = pd.read_csv(file, index_col = \"structure\")\n",
    "        df_list.append(df)\n",
    "    return df_list"
   ]
  },
  {
   "cell_type": "code",
   "execution_count": 3,
   "metadata": {},
   "outputs": [],
   "source": [
    "it1 =[\n",
    "    \"run-no-ambig\", \"run-with-ambig\", \"run-general-ambig\",\n",
    "\n",
    "]    \n",
    "runs =[\n",
    "    \"run-no-ambig\", \"run-with-ambig\", \"run-general-ambig\",\n",
    "    \"run-no-ambig-0.05-expand\", \"run-with-ambig-0.05-expand\", \"run-general-ambig-0.05-expand\",\n",
    "    \"run-no-ambig-0.2-expand\", \"run-with-ambig-0.2-expand\", \"run-general-ambig-0.2-expand\",\n",
    "    \"run-cg-with-lig\", \"run-water-refine\", \"run-cg-water\"\n",
    "]   \n",
    "\n",
    "ana_cg = [\n",
    "    \"run-general-ambig\",\n",
    "    \"run-cg-with-lig\",\n",
    "    \"run-water-refine\",\n",
    "    \"run-cg-water\"\n",
    "]\n",
    "\n",
    "ana_em =[\n",
    "\n",
    "    \"run-general-ambig\",\n",
    "    \"run-general-ambig-EM\",\n",
    "\n",
    "]\n",
    "\n",
    "analyze = ana_em"
   ]
  },
  {
   "cell_type": "code",
   "execution_count": 4,
   "metadata": {},
   "outputs": [
    {
     "name": "stdout",
     "output_type": "stream",
     "text": [
      "['3J95', '3J96', '5GRS', '5HNY', '5WCB', '6ACG', '6AHF', '6C3P', '6ENY', '6N1Q', '6N8Z', '6R7I']\n"
     ]
    }
   ],
   "source": [
    "def find_succes(runs, complexes=50):\n",
    "    \"\"\"searches through water data to check if which complexes are all succesfull\"\"\"\n",
    "    \n",
    "    counter = {}\n",
    "    for run in iter(runs):\n",
    "        water_dfs = make_water_df_list(run)\n",
    "        for df in iter(water_dfs):\n",
    "            structure = df.index[0][:4]\n",
    "            if df[\"HADDOCK-score\"][0] != \"nan\":\n",
    "                if structure in counter:\n",
    "                    counter[structure] += 1\n",
    "                else:\n",
    "                    counter[structure] = 1\n",
    "                        \n",
    "    succes_list = []\n",
    "    for structure in iter(counter):\n",
    "        if counter[structure] == len(runs):\n",
    "            succes_list.append(structure)\n",
    "            \n",
    "    return(succes_list)\n",
    "        \n",
    "succes_list = find_succes(analyze)\n",
    "top = 4\n",
    "print(succes_list)\n",
    "succes_list = ['3J95', '3J96', '5GRS', '5HNY', '5WCB', '6ACG', '6AHF', '6N1Q', '6N8Z', '6R7I']\n"
   ]
  },
  {
   "cell_type": "code",
   "execution_count": 5,
   "metadata": {},
   "outputs": [],
   "source": [
    "tick_label_dict ={\n",
    "    \"run-no-ambig\" : \"it1 nr\",\n",
    "    \"run-with-ambig\" : \"it1 sr\",\n",
    "    \"run-general-ambig\" : \"it1 gr\",\n",
    "    \"run-no-ambig-0.05-expand\" : \"it1 nr 0.05 exp\",\n",
    "    \"run-with-ambig-0.05-expand\" : \"it1 sr 0.05 exp\",\n",
    "    \"run-general-ambig-0.05-expand\" : \"it1 sr 0.05 exp\",\n",
    "    \"run-no-ambig-0.2-expand\" : \"it1 nr 0.2 exp\",\n",
    "    \"run-with-ambig-0.2-expand\" : \"it1 sr 0.2 exp\",\n",
    "    \"run-general-ambig-0.2-expand\" : \"it1 gr 0.2 exp\",\n",
    "    \"run-cg\" : \"coarse grained\",\n",
    "    \"run-cg2\" : \"coarse grained 2\",\n",
    "    \"run-cg-with-lig\" : \"cg\",\n",
    "    \"run-water-refine\" : \"MD in water\",\n",
    "    'run-no-ambig-0.05-expand-EM' : \"it1 no restraints 0.05 expand EM\",\n",
    "    'run-with-ambig-0.05-expand-EM' : \"it1 with restraints 0.05 expand EM\",\n",
    "    'run-general-ambig-0.05-expand-EM' : \"it1 general restraints 0.05 expand EM\",\n",
    "    \"run-cg-water\" : \"cg + MD in water\",\n",
    "    \"run-general-ambig-EM\" : \"it1 gr + EM\"\n",
    "}\n",
    "\n",
    "def make_tick_labels(runs):\n",
    "    tick_labels = []\n",
    "    for run in runs:\n",
    "        tick_labels.append(tick_label_dict[run])\n",
    "    return tick_labels"
   ]
  },
  {
   "cell_type": "code",
   "execution_count": 6,
   "metadata": {},
   "outputs": [
    {
     "data": {
      "image/png": "[encoded data removed]",
      "text/plain": [
       "<Figure size 432x288 with 1 Axes>"
      ]
     },
     "metadata": {
      "needs_background": "light"
     },
     "output_type": "display_data"
    }
   ],
   "source": [
    "ref_df = get_ref()\n",
    "cor_df = pd.DataFrame()\n",
    "for run in analyze:\n",
    "    df_list = make_water_df_list(run)\n",
    "    data_frame = pd.DataFrame()\n",
    "    for df in iter(df_list):\n",
    "        structure = df.index[0][:4]\n",
    "        if structure in succes_list:\n",
    "            df = df.sort_values(\"HADDOCK-score\")[0:top].reset_index().drop(\"structure\", axis=1)\n",
    "            df = df.sub(ref_df.loc[structure, \"correlation\"])\n",
    "            data_frame = pd.concat([data_frame, df], ignore_index=True)\n",
    "    cor_df = pd.concat([cor_df, data_frame[\"correlation\"]], axis=1, ignore_index=True)\n",
    "\n",
    "plot = sns.boxplot(data = cor_df)\n",
    "plot.set_xticklabels(analyze, rotation=45, ha=\"right\")\n",
    "plot.set_ylabel(\"Δ Cross-Correlation\")\n",
    "\n",
    "# plt.setp(plot, ylim=[-0.04, 0.005])\n",
    "\n",
    "plt.tight_layout()\n",
    "# plt.savefig(\"cross_correlation\")"
   ]
  },
  {
   "cell_type": "code",
   "execution_count": 7,
   "metadata": {},
   "outputs": [
    {
     "data": {
      "image/png": "[encoded data removed]",
      "text/plain": [
       "<Figure size 432x288 with 1 Axes>"
      ]
     },
     "metadata": {
      "needs_background": "light"
     },
     "output_type": "display_data"
    }
   ],
   "source": [
    "clash_df = pd.DataFrame()\n",
    "for run in analyze:\n",
    "    df_list = make_water_df_list(run)\n",
    "    data_frame = pd.DataFrame()\n",
    "    for df in iter(df_list):\n",
    "        if df.index[0][:4] in succes_list:\n",
    "            df = df.sort_values(\"HADDOCK-score\")[0:top].reset_index().drop(\"structure\", axis=1)\n",
    "            data_frame = pd.concat([data_frame, df], ignore_index=True)\n",
    "    clash_df = pd.concat([clash_df, data_frame[\"atomic-clashes\"]], axis=1, ignore_index=True)\n",
    "        \n",
    "plot = sns.boxplot(data = clash_df)\n",
    "plot.set_xticklabels(analyze, rotation=45, ha=\"right\")\n",
    "plot.set_ylabel(\"Atomic-clashes\")\n",
    "\n",
    "# plt.setp(plot, ylim=[-1, 5])\n",
    "\n",
    "plt.tight_layout()\n",
    "# plt.savegif(\"Clashes\", dpi = 200)"
   ]
  },
  {
   "cell_type": "code",
   "execution_count": 8,
   "metadata": {},
   "outputs": [
    {
     "data": {
      "image/png": "[encoded data removed]",
      "text/plain": [
       "<Figure size 432x288 with 1 Axes>"
      ]
     },
     "metadata": {
      "needs_background": "light"
     },
     "output_type": "display_data"
    }
   ],
   "source": [
    "clash_wref_df = pd.DataFrame()\n",
    "for run in analyze:\n",
    "    df_list = make_water_df_list(run)\n",
    "    data_frame = pd.DataFrame()\n",
    "    for df in iter(df_list):\n",
    "        if df.index[0][:4] in succes_list:\n",
    "            df = df.sort_values(\"HADDOCK-score\")[0:top].reset_index().drop(\"structure\", axis=1)\n",
    "            data_frame = pd.concat([data_frame, df], ignore_index=True)\n",
    "    clash_wref_df = pd.concat([clash_wref_df, data_frame[\"atomic-clashes\"]], axis=1, ignore_index=True)\n",
    "\n",
    "ref_df = get_ref()\n",
    "ref_df = ref_df.loc[succes_list, \"clashes\"]\n",
    "clash_wref_df = pd.concat([clash_wref_df, ref_df], axis=1, ignore_index=True)\n",
    "xticks = make_tick_labels(analyze)\n",
    "xticks.append(\"reference\")\n",
    "\n",
    "\n",
    "plot = sns.boxplot(data = clash_wref_df)\n",
    "plot.set_xticklabels(xticks, rotation=45, ha=\"right\")\n",
    "plot.set_ylabel(\"Atomic-clashes\")\n",
    "\n",
    "plt.setp(plot, ylim=[-1, 300])\n",
    "\n",
    "plt.tight_layout()\n",
    "# plt.savefig(\"Clashes_wref\", dpi = 200)"
   ]
  },
  {
   "cell_type": "code",
   "execution_count": 9,
   "metadata": {
    "scrolled": false
   },
   "outputs": [
    {
     "data": {
      "image/png": "[encoded data removed]",
      "text/plain": [
       "<Figure size 432x288 with 1 Axes>"
      ]
     },
     "metadata": {
      "needs_background": "light"
     },
     "output_type": "display_data"
    }
   ],
   "source": [
    "time_df = pd.DataFrame()\n",
    "times = make_time_df_list(analyze)\n",
    "for df in times:\n",
    "    df = df.loc[succes_list].mean(axis=1).reset_index().drop(\"structure\", axis=1)\n",
    "    time_df = pd.concat([time_df, df], axis=1, ignore_index=True)\n",
    "\n",
    "plot = sns.boxplot(data = time_df)\n",
    "plot.set_xticklabels(analyze, rotation=45, ha=\"right\")\n",
    "plot.set_ylabel(\"CPU time used (s)\")\n",
    "\n",
    "# plt.setp(plot, ylim=[0, 2000])\n",
    "\n",
    "plt.tight_layout()"
   ]
  },
  {
   "cell_type": "code",
   "execution_count": 10,
   "metadata": {},
   "outputs": [
    {
     "name": "stdout",
     "output_type": "stream",
     "text": [
      "10\n"
     ]
    }
   ],
   "source": [
    "print(len(succes_list))"
   ]
  },
  {
   "cell_type": "code",
   "execution_count": 11,
   "metadata": {},
   "outputs": [],
   "source": [
    "cor_mean = cor_df.mean().sort_values(ascending=False)\n",
    "cor_std = cor_df.std().sort_values()\n",
    "clash_mean = clash_df.mean().sort_values()\n",
    "clash_std = clash_df.std().sort_values()\n",
    "time_mean = time_df.mean().sort_values()\n",
    "time_std = time_df.std().sort_values()\n"
   ]
  },
  {
   "cell_type": "code",
   "execution_count": 12,
   "metadata": {
    "scrolled": false
   },
   "outputs": [
    {
     "data": {
      "image/png": "[encoded data removed]",
      "text/plain": [
       "<Figure size 1080x1440 with 3 Axes>"
      ]
     },
     "metadata": {
      "needs_background": "light"
     },
     "output_type": "display_data"
    }
   ],
   "source": [
    "boxes = cor_df.shape[1]\n",
    "\n",
    "fig, ax = plt.subplots(nrows=3, figsize=(15,20))\n",
    "sns.set(font_scale=1.5, style=\"whitegrid\")\n",
    "\n",
    "# fill the plots\n",
    "cor_plot = sns.boxplot(data=cor_df, ax=ax[0])\n",
    "clash_plot = sns.boxplot(data=clash_df, ax=ax[1])\n",
    "time_plot = sns.boxplot(data=time_df, ax=ax[2])\n",
    "\n",
    "# cor_plot.set_title(\"Top 4 analysis of {} cryo-EM models\".format(len(succes_list)), fontsize = 30)\n",
    "\n",
    "xticks = make_tick_labels(analyze)\n",
    "cor_plot.set_xticks([])\n",
    "clash_plot.set_xticks([])\n",
    "time_plot.set_xticklabels(xticks, rotation=45, ha=\"right\", fontsize=15)\n",
    "\n",
    "\n",
    "cor_plot.set_ylabel(\"Δ Cross-Correlation\", fontsize=20)\n",
    "clash_plot.set_ylabel(\"Atomic-clashes\", fontsize=20)\n",
    "time_plot.set_ylabel(\"CPU time used (s)\", fontsize=20)\n",
    "\n",
    "\n",
    "plt.setp(cor_plot, ylim=[-0.05, 0.020])\n",
    "plt.setp(clash_plot, ylim=[-1, 45])\n",
    "# plt.setp(time_plot, ylim=[0, 3500])\n",
    "\n",
    "\n",
    "plt.tight_layout()\n",
    "plt.savefig(\"EM\", dpi=300)"
   ]
  },
  {
   "cell_type": "code",
   "execution_count": 13,
   "metadata": {},
   "outputs": [
    {
     "name": "stdout",
     "output_type": "stream",
     "text": [
      "['3J95', '3J96', '5GRS', '5HNY', '5WCB', '6ACG', '6AHF', '6N1Q', '6N8Z', '6R7I']\n"
     ]
    }
   ],
   "source": [
    "print(succes_list)\n",
    "succes_all = ['3J95', '3J96', '5GRS', '5HNY', '5WCB', '6ACG', '6AHF', '6IRF', '6N1Q', '6N7G', '6N8Z', '6R7I', '6UBY', '6UC0']\n",
    "succes_EM = ['3J95', '3J96', '5GRS', '5HNY', '5WCB', '6ACG', '6AHF', '6N1Q', '6N8Z', '6R7I']\n"
   ]
  },
  {
   "cell_type": "code",
   "execution_count": 14,
   "metadata": {},
   "outputs": [
    {
     "data": {
      "text/html": [
       "<div>\n",
       "<style scoped>\n",
       "    .dataframe tbody tr th:only-of-type {\n",
       "        vertical-align: middle;\n",
       "    }\n",
       "\n",
       "    .dataframe tbody tr th {\n",
       "        vertical-align: top;\n",
       "    }\n",
       "\n",
       "    .dataframe thead th {\n",
       "        text-align: right;\n",
       "    }\n",
       "</style>\n",
       "<table border=\"1\" class=\"dataframe\">\n",
       "  <thead>\n",
       "    <tr style=\"text-align: right;\">\n",
       "      <th></th>\n",
       "      <th>correlation</th>\n",
       "      <th>clashes</th>\n",
       "      <th>time</th>\n",
       "    </tr>\n",
       "  </thead>\n",
       "  <tbody>\n",
       "    <tr>\n",
       "      <th>it1 gr + EM</th>\n",
       "      <td>0.805964</td>\n",
       "      <td>0.18176</td>\n",
       "      <td>0.002192</td>\n",
       "    </tr>\n",
       "  </tbody>\n",
       "</table>\n",
       "</div>"
      ],
      "text/plain": [
       "             correlation  clashes      time\n",
       "it1 gr + EM     0.805964  0.18176  0.002192"
      ]
     },
     "execution_count": 14,
     "metadata": {},
     "output_type": "execute_result"
    }
   ],
   "source": [
    "dfs = [cor_df, clash_df, time_df]\n",
    "things = [\"correlation\", \"clashes\", \"time\"]\n",
    "xticks = make_tick_labels(analyze)\n",
    "stat_dict = {}\n",
    "\n",
    "for index, df in enumerate(iter(dfs)):\n",
    "    part = things[index]\n",
    "    part_dict = stat_dict[part] = {}\n",
    "    for i in range(len(df.columns) - 1):\n",
    "        i +=1\n",
    "        part_dict[xticks[i]] = stats.ttest_ind(df[0], df[i])[1]\n",
    "pd.DataFrame.from_dict(stat_dict)\n"
   ]
  }
 ],
 "metadata": {
  "kernelspec": {
   "display_name": "Python 3",
   "language": "python",
   "name": "python3"
  },
  "language_info": {
   "codemirror_mode": {
    "name": "ipython",
    "version": 3
   },
   "file_extension": ".py",
   "mimetype": "text/x-python",
   "name": "python",
   "nbconvert_exporter": "python",
   "pygments_lexer": "ipython3",
   "version": "3.7.6"
  }
 },
 "nbformat": 4,
 "nbformat_minor": 4
}
