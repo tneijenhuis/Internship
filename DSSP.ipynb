{
 "cells": [
  {
   "cell_type": "code",
   "execution_count": 2,
   "metadata": {},
   "outputs": [],
   "source": [
    "import pandas as pd\n",
    "import matplotlib.pyplot as plt\n",
    "%matplotlib inline\n",
    "import numpy as np\n",
    "import seaborn as sns\n",
    "from scipy import stats"
   ]
  },
  {
   "cell_type": "code",
   "execution_count": 3,
   "metadata": {},
   "outputs": [],
   "source": [
    "runs =[\n",
    "    \"run-no-ambig\", \"run-with-ambig-orig\", \"run-general-ambig\",\n",
    "    \"run-no-ambig-0.05-expand\", \"run-with-ambig-0.05-expand-orig\", \"run-general-ambig-0.05-expand\",\n",
    "    \"run-no-ambig-0.2-expand\", \"run-with-ambig-0.2-expand\", \"run-general-ambig-0.2-expand\",\"run-water-refine\",\n",
    "    \"run-with-ambig\", \"run-with-ambig-0.05-expand\",\n",
    "    \"run-cg-with-lig\", \"run-cg-water\"\n",
    "]   \n",
    "succes_list = ['3J95', '3J96', '5GRS', '5HNY', '5WCB', '6ACG', '6AHF', '6IRF', '6N1Q', '6N7G', '6N8Z', '6R7I', '6UBY', '6UC0']\n",
    "\n",
    "tick_label_dict ={\n",
    "    \"run-no-ambig\" : \"1\",\n",
    "    \"run-with-ambig-orig\" : \"2\",\n",
    "    \"run-general-ambig\" : \"3\",\n",
    "    \"run-no-ambig-0.05-expand\" : \"4\",\n",
    "    \"run-with-ambig-0.05-expand-orig\" : \"5\",\n",
    "    \"run-general-ambig-0.05-expand\" : \"6\",\n",
    "    \"run-no-ambig-0.2-expand\" : \"7\",\n",
    "    \"run-with-ambig-0.2-expand\" : \"8\",\n",
    "    \"run-general-ambig-0.2-expand\" : \"9\",\n",
    "    \"run-cg\" : \"coarse grained\",\n",
    "    \"run-cg2\" : \"coarse grained 2\",\n",
    "    \"run-cg-with-lig\" : \"13\",\n",
    "    \"run-water-refine\" : \"10\",\n",
    "    'run-no-ambig-0.05-expand-EM' : \"it1 no restraints 0.05 expand EM\",\n",
    "    'run-with-ambig-0.05-expand-EM' : \"it1 with restraints 0.05 expand EM\",\n",
    "    'run-general-ambig-0.05-expand-EM' : \"it1 general restraints 0.05 expand EM\",\n",
    "    \"run-cg-water\" : \"14\",\n",
    "    \"run-general-ambig-EM\" : \"it1 gr + EM\",\n",
    "    \"run-with-ambig\" : \"11\",\n",
    "    \"run-with-ambig-0.05-expand\" : \"12\"\n",
    "}\n",
    "\n",
    "def make_tick_labels(runs):\n",
    "    tick_labels = []\n",
    "    for run in runs:\n",
    "        tick_labels.append(tick_label_dict[run])\n",
    "    return tick_labels"
   ]
  },
  {
   "cell_type": "code",
   "execution_count": 17,
   "metadata": {},
   "outputs": [],
   "source": [
    "def get_ref_secondary():\n",
    "    \"\"\"returns a DataFrame containing all the reference structure values\"\"\"\n",
    "    ref_df = pd.read_csv(\"analysis/reference-dssp.csv\", index_col = 0)\n",
    "  \n",
    "    return ref_df\n",
    "\n",
    "def make_secondary_df(run):\n",
    "    run = \"analysis_{}\".format(run)\n",
    "    \n",
    "    df_3J95 = pd.read_csv((\"analysis/{}/3J95_dssp.csv\").format(run), index_col = \"structure\")\n",
    "    df_3J96 = pd.read_csv((\"analysis/{}/3J96_dssp.csv\").format(run), index_col = \"structure\")\n",
    "    df_5GRS = pd.read_csv((\"analysis/{}/5GRS_dssp.csv\").format(run), index_col = \"structure\")\n",
    "    df_5HNY = pd.read_csv((\"analysis/{}/5HNY_dssp.csv\").format(run), index_col = \"structure\")\n",
    "    df_5WCB = pd.read_csv((\"analysis/{}/5WCB_dssp.csv\").format(run), index_col = \"structure\")\n",
    "    df_6ACG = pd.read_csv((\"analysis/{}/6ACG_dssp.csv\").format(run), index_col = \"structure\")\n",
    "    df_6AHF = pd.read_csv((\"analysis/{}/6AHF_dssp.csv\").format(run), index_col = \"structure\")\n",
    "    df_6IRF = pd.read_csv((\"analysis/{}/6IRF_dssp.csv\").format(run), index_col = \"structure\")\n",
    "    df_6N1Q = pd.read_csv((\"analysis/{}/6N1Q_dssp.csv\").format(run), index_col = \"structure\")\n",
    "    df_6N7G = pd.read_csv((\"analysis/{}/6N7G_dssp.csv\").format(run), index_col = \"structure\")\n",
    "    df_6N8Z = pd.read_csv((\"analysis/{}/6N8Z_dssp.csv\").format(run), index_col = \"structure\")\n",
    "    df_6R7I = pd.read_csv((\"analysis/{}/6R7I_dssp.csv\").format(run), index_col = \"structure\")\n",
    "    df_6UBY = pd.read_csv((\"analysis/{}/6UBY_dssp.csv\").format(run), index_col = \"structure\")\n",
    "    df_6UC0 = pd.read_csv((\"analysis/{}/6UC0_dssp.csv\").format(run), index_col = \"structure\")\n",
    "    \n",
    "    df_list = [\n",
    "        df_3J95,\n",
    "        df_3J96,\n",
    "        df_5GRS,\n",
    "        df_5HNY,\n",
    "        df_5WCB,\n",
    "        df_6ACG,\n",
    "        df_6AHF,\n",
    "        df_6IRF,\n",
    "        df_6N1Q,\n",
    "        df_6N7G,\n",
    "        df_6N8Z,\n",
    "        df_6R7I,\n",
    "        df_6UBY,\n",
    "        df_6UC0,\n",
    "    ]\n",
    "    \n",
    "    return df_list"
   ]
  },
  {
   "cell_type": "code",
   "execution_count": 50,
   "metadata": {},
   "outputs": [],
   "source": [
    "def make_dssp_df(run):\n",
    "    ref = get_ref_secondary()\n",
    "    dssp_df = make_secondary_df(run)\n",
    "    total_df = pd.DataFrame()\n",
    "    for df in dssp_df:\n",
    "        struct = \"{}\".format(df.index[1][0:4])\n",
    "        df = df.iloc[:,1:6]\n",
    "        df = df.sub(ref.loc[struct])\n",
    "        df = df.reset_index()\n",
    "        df.pop(\"structure\")\n",
    "        total_df = pd.concat([total_df, df], ignore_index=True)\n",
    "    return total_df"
   ]
  },
  {
   "cell_type": "code",
   "execution_count": 52,
   "metadata": {},
   "outputs": [
    {
     "data": {
      "image/png": "[encoded data removed]",
      "text/plain": [
       "<Figure size 1008x360 with 2 Axes>"
      ]
     },
     "metadata": {
      "needs_background": "light"
     },
     "output_type": "display_data"
    }
   ],
   "source": [
    "fig, ax = plt.subplots(ncols = 2, figsize = (14, 5))\n",
    "df_cg = make_dssp_df(runs[12])\n",
    "df_sa = make_dssp_df(runs[0])\n",
    "plot_cg = sns.boxplot(data = df_cg, ax = ax[1])\n",
    "plot_sa = sns.boxplot(data = df_sa, ax = ax[0])\n",
    "plt.setp(plot_cg ,ylim=[-25,25])\n",
    "plt.setp(plot_sa ,ylim=[-25,25])\n",
    "plot_cg.set_title(\"CG\", fontsize = 20)\n",
    "plot_sa.set_title(\"it1\", fontsize = 20)\n",
    "plot_sa.set_ylabel(\"Delta % to reference\", fontsize = 15)\n",
    "plt.show()\n"
   ]
  }
 ],
 "metadata": {
  "kernelspec": {
   "display_name": "Python 3",
   "language": "python",
   "name": "python3"
  },
  "language_info": {
   "codemirror_mode": {
    "name": "ipython",
    "version": 3
   },
   "file_extension": ".py",
   "mimetype": "text/x-python",
   "name": "python",
   "nbconvert_exporter": "python",
   "pygments_lexer": "ipython3",
   "version": "3.7.6"
  }
 },
 "nbformat": 4,
 "nbformat_minor": 4
}
