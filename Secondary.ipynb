{
 "cells": [
  {
   "cell_type": "code",
   "execution_count": 1,
   "metadata": {},
   "outputs": [],
   "source": [
    "import pandas as pd\n",
    "import matplotlib.pyplot as plt\n",
    "%matplotlib inline\n",
    "import numpy as np\n",
    "import seaborn as sns\n",
    "from scipy import stats"
   ]
  },
  {
   "cell_type": "code",
   "execution_count": 10,
   "metadata": {},
   "outputs": [],
   "source": [
    "runs =[\n",
    "    \"run-no-ambig\", \"run-with-ambig\", \"run-general-ambig\",\n",
    "    \"run-no-ambig-0.05-expand\", \"run-with-ambig-0.05-expand\", \"run-general-ambig-0.05-expand\",\n",
    "    \"run-no-ambig-0.2-expand\", \"run-with-ambig-0.2-expand\", \"run-general-ambig-0.2-expand\",\n",
    "    \"run-cg-with-lig\", \"run-water-refine\", \"run-cg-water\"\n",
    "]  \n",
    "\n",
    "succes_list = ['3J95', '3J96', '5GRS', '5HNY', '5WCB', '6ACG', '6AHF', '6IRF', '6N1Q', '6N7G', '6N8Z', '6R7I', '6UBY', '6UC0']\n",
    "\n",
    "tick_label_dict ={\n",
    "    \"run-no-ambig\" : \"it1 nr\",\n",
    "    \"run-with-ambig\" : \"it1 sr\",\n",
    "    \"run-general-ambig\" : \"it1 gr\",\n",
    "    \"run-no-ambig-0.05-expand\" : \"it1 nr 0.05 exp\",\n",
    "    \"run-with-ambig-0.05-expand\" : \"it1 sr 0.05 exp\",\n",
    "    \"run-general-ambig-0.05-expand\" : \"it1 gr 0.05 exp\",\n",
    "    \"run-no-ambig-0.2-expand\" : \"it1 nr 0.2 exp\",\n",
    "    \"run-with-ambig-0.2-expand\" : \"it1 sr 0.2 exp\",\n",
    "    \"run-general-ambig-0.2-expand\" : \"it1 gr 0.2 exp\",\n",
    "    \"run-cg\" : \"coarse grained\",\n",
    "    \"run-cg2\" : \"coarse grained 2\",\n",
    "    \"run-cg-with-lig\" : \"cg\",\n",
    "    \"run-water-refine\" : \"MD in water\",\n",
    "    'run-no-ambig-0.05-expand-EM' : \"it1 no restraints 0.05 expand EM\",\n",
    "    'run-with-ambig-0.05-expand-EM' : \"it1 with restraints 0.05 expand EM\",\n",
    "    'run-general-ambig-0.05-expand-EM' : \"it1 general restraints 0.05 expand EM\",\n",
    "    \"run-cg-water\" : \"cg + MD in water\",\n",
    "    \"run-general-ambig-EM\" : \"it1 gr + EM\"\n",
    "}\n",
    "\n",
    "def make_tick_labels(runs):\n",
    "    tick_labels = []\n",
    "    for run in runs:\n",
    "        tick_labels.append(tick_label_dict[run])\n",
    "    return tick_labels"
   ]
  },
  {
   "cell_type": "code",
   "execution_count": 11,
   "metadata": {},
   "outputs": [],
   "source": [
    "def get_ref_secondary():\n",
    "    \"\"\"returns a DataFrame containing all the reference structure values\"\"\"\n",
    "    ref_df = pd.read_csv(\"analysis/reference-secondary.csv\", index_col = 0)\n",
    "  \n",
    "    return ref_df\n",
    "\n",
    "def make_secondary_df(run):\n",
    "    run = \"analysis_{}\".format(run)\n",
    "    \n",
    "    df_3J95 = pd.read_csv((\"analysis/{}/3J95_secondary.csv\").format(run), index_col = \"structure\")\n",
    "    df_3J96 = pd.read_csv((\"analysis/{}/3J96_secondary.csv\").format(run), index_col = \"structure\")\n",
    "    df_5GRS = pd.read_csv((\"analysis/{}/5GRS_secondary.csv\").format(run), index_col = \"structure\")\n",
    "    df_5HNY = pd.read_csv((\"analysis/{}/5HNY_secondary.csv\").format(run), index_col = \"structure\")\n",
    "    df_5WCB = pd.read_csv((\"analysis/{}/5WCB_secondary.csv\").format(run), index_col = \"structure\")\n",
    "    df_6ACG = pd.read_csv((\"analysis/{}/6ACG_secondary.csv\").format(run), index_col = \"structure\")\n",
    "    df_6AHF = pd.read_csv((\"analysis/{}/6AHF_secondary.csv\").format(run), index_col = \"structure\")\n",
    "    df_6C06 = pd.read_csv((\"analysis/{}/6C06_secondary.csv\").format(run), index_col = \"structure\")\n",
    "    df_6C3P = pd.read_csv((\"analysis/{}/6C3P_secondary.csv\").format(run), index_col = \"structure\")\n",
    "    df_6ENY = pd.read_csv((\"analysis/{}/6ENY_secondary.csv\").format(run), index_col = \"structure\")\n",
    "    df_6IRF = pd.read_csv((\"analysis/{}/6IRF_secondary.csv\").format(run), index_col = \"structure\")\n",
    "    df_6N1Q = pd.read_csv((\"analysis/{}/6N1Q_secondary.csv\").format(run), index_col = \"structure\")\n",
    "    df_6N7G = pd.read_csv((\"analysis/{}/6N7G_secondary.csv\").format(run), index_col = \"structure\")\n",
    "    df_6N8T = pd.read_csv((\"analysis/{}/6N8T_secondary.csv\").format(run), index_col = \"structure\")\n",
    "    df_6N8Z = pd.read_csv((\"analysis/{}/6N8Z_secondary.csv\").format(run), index_col = \"structure\")\n",
    "    df_6R7I = pd.read_csv((\"analysis/{}/6R7I_secondary.csv\").format(run), index_col = \"structure\")\n",
    "    df_6UBY = pd.read_csv((\"analysis/{}/6UBY_secondary.csv\").format(run), index_col = \"structure\")\n",
    "    df_6UC0 = pd.read_csv((\"analysis/{}/6UC0_secondary.csv\").format(run), index_col = \"structure\")\n",
    "    \n",
    "    df_list = [\n",
    "        df_3J95,\n",
    "        df_3J96,\n",
    "        df_5GRS,\n",
    "        df_5HNY,\n",
    "        df_5WCB,\n",
    "        df_6ACG,\n",
    "        df_6AHF,\n",
    "        df_6C06,\n",
    "        df_6C3P,\n",
    "        df_6ENY,\n",
    "        df_6IRF,\n",
    "        df_6N1Q,\n",
    "        df_6N7G,\n",
    "        df_6N8T,\n",
    "        df_6N8Z,\n",
    "        df_6R7I,\n",
    "        df_6UBY,\n",
    "        df_6UC0,\n",
    "    ]\n",
    "    \n",
    "    return df_list"
   ]
  },
  {
   "cell_type": "code",
   "execution_count": 12,
   "metadata": {},
   "outputs": [],
   "source": [
    "def combine_dfs(analyzer):\n",
    "    final_df = pd.DataFrame()\n",
    "    for run in runs:\n",
    "        df_list = make_secondary_df(run)\n",
    "        data_frame = pd.DataFrame()\n",
    "        for df in iter(df_list):\n",
    "            if df.shape[0] != 0:\n",
    "                structure = df.index[0][:4]\n",
    "                if structure in succes_list:\n",
    "                    df = df.sort_values(\"HADDOCK-score\").reset_index().drop(\"structure\", axis=1)\n",
    "#                     df = df.sub(ref_df.loc[structure, analyzer])\n",
    "                    data_frame = pd.concat([data_frame, df[analyzer]], ignore_index=True)\n",
    "        final_df = pd.concat([final_df, data_frame], axis=1, ignore_index=True)\n",
    "    return final_df"
   ]
  },
  {
   "cell_type": "code",
   "execution_count": 13,
   "metadata": {},
   "outputs": [
    {
     "data": {
      "image/png": "[encoded data removed]",
      "text/plain": [
       "<Figure size 432x288 with 1 Axes>"
      ]
     },
     "metadata": {
      "needs_background": "light"
     },
     "output_type": "display_data"
    }
   ],
   "source": [
    "analyzer =\"unordered\"\n",
    "ana_df = combine_dfs(analyzer)\n",
    "ref_df = get_ref_secondary()\n",
    "ref_df\n",
    "ref_df = ref_df.loc[succes_list, analyzer]\n",
    "df = pd.concat([ana_df, ref_df], axis=1, ignore_index=True)\n",
    "xticks = make_tick_labels(runs)\n",
    "xticks.append(\"reference\")\n",
    "\n",
    "plot = sns.boxplot(data = df)\n",
    "plot.set_xticklabels(xticks, rotation=45, ha=\"right\")\n",
    "plot.set_ylabel(\"Unordered residues (%)\")\n",
    "plt.tight_layout()"
   ]
  },
  {
   "cell_type": "code",
   "execution_count": null,
   "metadata": {},
   "outputs": [],
   "source": []
  },
  {
   "cell_type": "code",
   "execution_count": null,
   "metadata": {},
   "outputs": [],
   "source": [
    "hgj"
   ]
  }
 ],
 "metadata": {
  "kernelspec": {
   "display_name": "Python 3",
   "language": "python",
   "name": "python3"
  },
  "language_info": {
   "codemirror_mode": {
    "name": "ipython",
    "version": 3
   },
   "file_extension": ".py",
   "mimetype": "text/x-python",
   "name": "python",
   "nbconvert_exporter": "python",
   "pygments_lexer": "ipython3",
   "version": "3.7.6"
  }
 },
 "nbformat": 4,
 "nbformat_minor": 4
}
